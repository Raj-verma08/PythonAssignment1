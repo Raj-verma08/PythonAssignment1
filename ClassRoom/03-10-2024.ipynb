{
 "cells": [
  {
   "cell_type": "markdown",
   "id": "d9d192a4-bb41-43e0-8638-1b7715a0cc9e",
   "metadata": {},
   "source": [
    "### Write a funtion to coount n and evalute a=n*10 for all value from 0 to n"
   ]
  },
  {
   "cell_type": "code",
   "execution_count": 30,
   "id": "de68131a-2e27-447c-853e-e17867326d52",
   "metadata": {},
   "outputs": [],
   "source": [
    "import time\n",
    "def count(n):\n",
    "    for i in range(0,n):\n",
    "        a=n*10;\n",
    "\n",
    "n=100000\n",
    "#code to evaluate run time of function call count(n)\n",
    "def wrapper(func,n):\n",
    "    start_time=time.time() *1000000\n",
    "    func(n)# timing this function call/execution\n",
    "    end_time=time.time() *1000000\n",
    "    print(f\"\\nTime to execute is {end_time - start_time} micro second\")"
   ]
  },
  {
   "cell_type": "code",
   "execution_count": 32,
   "id": "959eb51f-32b3-439a-be2a-fb361833c27b",
   "metadata": {},
   "outputs": [
    {
     "name": "stdout",
     "output_type": "stream",
     "text": [
      "\n",
      "Time to execute is 13074.75 micro second\n"
     ]
    }
   ],
   "source": [
    "wrapper(count,n)"
   ]
  },
  {
   "cell_type": "code",
   "execution_count": 34,
   "id": "8dc110f6-46d9-4f32-bd32-3d2267fd8dbb",
   "metadata": {},
   "outputs": [
    {
     "name": "stdout",
     "output_type": "stream",
     "text": [
      "\n",
      "Time to execute is 17199.75 micro second\n",
      "\n",
      "Time to execute is 30749.0 micro second\n",
      "\n",
      "Time to execute is 8414.75 micro second\n",
      "\n",
      "Time to execute is 0.0 micro second\n",
      "\n",
      "Time to execute is 0.0 micro second\n",
      "\n",
      "Time to execute is 0.0 micro second\n"
     ]
    }
   ],
   "source": [
    "ns=[100000,234234,34345,345,344,345]\n",
    "for i in ns:\n",
    "    wrapper(count,i)"
   ]
  },
  {
   "cell_type": "code",
   "execution_count": 47,
   "id": "7ca348f3-d9e2-47be-bd71-ab9e11c8c2ae",
   "metadata": {},
   "outputs": [
    {
     "name": "stdout",
     "output_type": "stream",
     "text": [
      "\n",
      "Time to execute is 7804.5 micro second\n"
     ]
    }
   ],
   "source": [
    "def count(n):\n",
    "    for i in range(0,n):\n",
    "        a=n*10;\n",
    "\n",
    "n=100000\n",
    "#code to evaluate run time of function call count(n)\n",
    "def wrapper(func,*args,**Kwargs): #generalize\n",
    "    start_time=time.time() *1000000\n",
    "    func(n)  # timing this function call/execution\n",
    "    end_time=time.time() *1000000\n",
    "    print(f\"\\nTime to execute is {end_time - start_time} micro second\")\n",
    "\n",
    "wrapper(count,n)"
   ]
  },
  {
   "cell_type": "code",
   "execution_count": 49,
   "id": "98957b79-1fbd-4297-9952-ff1682b4793c",
   "metadata": {},
   "outputs": [
    {
     "name": "stdout",
     "output_type": "stream",
     "text": [
      "\n",
      "Time to execute is 8482.5 micro second\n"
     ]
    }
   ],
   "source": [
    "\n",
    "n=100000\n",
    "#code to evaluate run time of function call count(n)\n",
    "def wrapper(func,*args,**Kwargs): #generalize\n",
    "    def wrapped(*args,**kwargs):\n",
    "        start_time=time.time() *1000000\n",
    "        func(*args,**kwargs)  # timing this function call/execution\n",
    "        end_time=time.time() *1000000\n",
    "        print(f\"\\nTime to execute is {end_time - start_time} micro second\")\n",
    "\n",
    "    return wrapped\n",
    "\n",
    "wrapped_count=wrapper(count,n)\n",
    "wrapped_count(n)"
   ]
  },
  {
   "cell_type": "code",
   "execution_count": 51,
   "id": "18373839-1aa9-4675-868a-310e94c51956",
   "metadata": {},
   "outputs": [
    {
     "name": "stdout",
     "output_type": "stream",
     "text": [
      "\n",
      "Time to execute is 10814.75 micro second\n"
     ]
    }
   ],
   "source": [
    "n=100000\n",
    "#code to evaluate run time of function call count(n)\n",
    "def wrapper(func,*args,**Kwargs): #generalize\n",
    "    def wrapped(*args,**kwargs):\n",
    "        start_time=time.time() *1000000\n",
    "        func(*args,**kwargs)  # timing this function call/execution\n",
    "        end_time=time.time() *1000000\n",
    "        print(f\"\\nTime to execute is {end_time - start_time} micro second\")\n",
    "\n",
    "    return wrapped\n",
    "\n",
    "@wrapper #decorater\n",
    "def count(n):\n",
    "    for i in range(0,n):\n",
    "        a=n*10;\n",
    "\n",
    "count(n)"
   ]
  },
  {
   "cell_type": "code",
   "execution_count": null,
   "id": "d8e5377b-4f50-4256-b4a1-32aa71e92607",
   "metadata": {},
   "outputs": [],
   "source": []
  }
 ],
 "metadata": {
  "kernelspec": {
   "display_name": "Python 3 (ipykernel)",
   "language": "python",
   "name": "python3"
  },
  "language_info": {
   "codemirror_mode": {
    "name": "ipython",
    "version": 3
   },
   "file_extension": ".py",
   "mimetype": "text/x-python",
   "name": "python",
   "nbconvert_exporter": "python",
   "pygments_lexer": "ipython3",
   "version": "3.12.4"
  }
 },
 "nbformat": 4,
 "nbformat_minor": 5
}
