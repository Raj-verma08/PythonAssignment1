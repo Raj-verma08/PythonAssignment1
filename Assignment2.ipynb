{
 "cells": [
  {
   "cell_type": "markdown",
   "id": "3d224027-fe1e-4a6c-8e9c-1c30a8392531",
   "metadata": {},
   "source": [
    "### 1. Write a function greet that takes two arguments: name (a string) and greeting (a string with a default value of \"Hello\"). The function should return a greeting message."
   ]
  },
  {
   "cell_type": "code",
   "execution_count": 40,
   "id": "fd379d79-c392-42b2-bbd1-d56a61c5b190",
   "metadata": {},
   "outputs": [
    {
     "name": "stdout",
     "output_type": "stream",
     "text": [
      "Hello Alice\n",
      "Good Morning Bob\n"
     ]
    }
   ],
   "source": [
    "#Define A function which take two argument one is name and second is  greeting as a default value argument\n",
    "def greet(name, greeting=\"Hello\"):\n",
    "    return f\"{greeting} {name}\"\n",
    "\n",
    "# Example:\n",
    "print(greet(\"Alice\"))  # Output: \"Hello Alice\"\n",
    "print(greet(\"Bob\", \"Good Morning\"))  # Output: \"Good Morning Bob\"\n"
   ]
  },
  {
   "cell_type": "markdown",
   "id": "dea9561e-cce8-4a3e-af96-b27c2460a4f9",
   "metadata": {},
   "source": [
    "### 2.Create a function create_profile that takes arguments for name, age, and city as named arguments. The function should return a string like \"Name: Alice, Age: 25, City: New York\". Ensure that the age argument has a default value of 18."
   ]
  },
  {
   "cell_type": "code",
   "execution_count": 42,
   "id": "4c20406f-cc40-4725-af42-9f4be4833ba3",
   "metadata": {},
   "outputs": [
    {
     "name": "stdout",
     "output_type": "stream",
     "text": [
      "Name: John, Age: 18, City: Chicago\n",
      "Name: Emma, Age: 22, City: Los Angeles\n"
     ]
    }
   ],
   "source": [
    "#Define A function which take three argument, one is name, second is city and third is age as a default value argument \n",
    "def create_profile(name, city, age=18):\n",
    "    return f\"Name: {name}, Age: {age}, City: {city}\"\n",
    "\n",
    "# Example:\n",
    "print(create_profile(name=\"John\", city=\"Chicago\"))  \n",
    "# Output: \"Name: John, Age: 18, City: Chicago\"\n",
    "\n",
    "print(create_profile(name=\"Emma\", age=22, city=\"Los Angeles\"))  \n",
    "# Output: \"Name: Emma, Age: 22, City: Los Angeles\"\n"
   ]
  },
  {
   "cell_type": "markdown",
   "id": "dc45c226-2524-404f-be28-6b62f53eba80",
   "metadata": {},
   "source": [
    "### 3. Write a function sum_numbers that takes any number of positional arguments (args) and keyword arguments (*kwargs). It should:\n",
    "        -> Return the sum of all *args if they are numbers.\n",
    "        -> Return a dictionary of all keyword arguments.\n"
   ]
  },
  {
   "cell_type": "code",
   "execution_count": 26,
   "id": "90dd4b7a-3283-4833-b76a-bbf758fc8d38",
   "metadata": {},
   "outputs": [
    {
     "name": "stdout",
     "output_type": "stream",
     "text": [
      "6\n",
      "(3, {'x': 4, 'y': 5})\n"
     ]
    }
   ],
   "source": [
    "#Define A function that take any number of optional argument *agrs and another optional argument **kwargs which take key value pair and store into a dictionary. \n",
    "def sum_numbers(*args, **kwargs):\n",
    "    # Summing all the positional arguments (*args) that are numbers\n",
    "    sum_of_args = sum(arg for arg in args if isinstance(arg, (int, float)))\n",
    "\n",
    "    # Returning the sum of *args and the dictionary of **kwargs\n",
    "    if kwargs:\n",
    "        return sum_of_args, kwargs\n",
    "    return sum_of_args\n",
    "\n",
    "# Example:\n",
    "print(sum_numbers(1, 2, 3))  \n",
    "# Output: 6\n",
    "\n",
    "print(sum_numbers(1, 2, x=4, y=5))  \n",
    "# Output: (6, {'x': 4, 'y': 5})\n"
   ]
  },
  {
   "cell_type": "markdown",
   "id": "3be8a4de-af67-482d-8509-c201b1ff02a7",
   "metadata": {},
   "source": [
    "### 4. Write a function that uses map and a lambda to return a list where each element is squared.\n",
    "\n"
   ]
  },
  {
   "cell_type": "code",
   "execution_count": 81,
   "id": "6ff78757-cb0e-4feb-8e64-abdbab47cc86",
   "metadata": {},
   "outputs": [
    {
     "name": "stdout",
     "output_type": "stream",
     "text": [
      "[1, 4, 9, 16]\n"
     ]
    }
   ],
   "source": [
    "#Define A Function that one argument and return list of squared of each element in the list\n",
    "def square_list(numbers):\n",
    "    return list(map(lambda x: x ** 2, numbers))\n",
    "\n",
    "# Example:\n",
    "print(square_list([1, 2, 3, 4]))  "
   ]
  },
  {
   "cell_type": "markdown",
   "id": "15a12a88-d43e-40d5-aa68-c712358cf6c0",
   "metadata": {},
   "source": [
    "### 5. Write a function that filters out all odd numbers from a list using filter and a lambda function.\n",
    "\n"
   ]
  },
  {
   "cell_type": "code",
   "execution_count": 18,
   "id": "1f48f76d-7760-4ea6-9664-897d6d2adcb4",
   "metadata": {},
   "outputs": [
    {
     "name": "stdout",
     "output_type": "stream",
     "text": [
      "[2, 4]\n"
     ]
    }
   ],
   "source": [
    "# Define A function that take one argument and return the list contaning only even number(or filter out the odd numbers from the list)\n",
    "\n",
    "def filter_odd_numbers(numbers):\n",
    "    return list(filter(lambda x: x % 2 == 0, numbers))  #list contaning only even number(or filter out the odd numbers from the list)\n",
    "\n",
    "# Example:\n",
    "print(filter_odd_numbers([1, 2, 3, 4, 5]))  #print the function 'filter_odd_numbers' return value"
   ]
  },
  {
   "cell_type": "markdown",
   "id": "a2d7fc73-98ec-4b1b-8096-af87b69dcb9f",
   "metadata": {},
   "source": [
    "### 6. Create a list comprehension that takes a list of numbers and returns a list of their squares."
   ]
  },
  {
   "cell_type": "code",
   "execution_count": 91,
   "id": "886760b2-4382-4582-8dcd-184e9c7d2dae",
   "metadata": {},
   "outputs": [
    {
     "name": "stdout",
     "output_type": "stream",
     "text": [
      "[1, 4, 9, 16]\n"
     ]
    }
   ],
   "source": [
    "nums=[1,2,3,4]   # Initializing a list with values\n",
    "\n",
    "#List Comprehension that square the element of the above list and store them in squares list\n",
    "squares = [x**2 for x in nums]\n",
    "\n",
    "# Example:\n",
    "print(squares)  #print the squares list"
   ]
  },
  {
   "cell_type": "markdown",
   "id": "ac739ca2-e91f-4387-9575-f5670fa31d32",
   "metadata": {},
   "source": [
    "### 7. Use a list comprehension to create a list of even numbers from 1 to 20."
   ]
  },
  {
   "cell_type": "code",
   "execution_count": 16,
   "id": "1b1d1bf9-f8a0-4716-9ad0-c59098db499a",
   "metadata": {},
   "outputs": [
    {
     "name": "stdout",
     "output_type": "stream",
     "text": [
      "[2, 4, 6, 8, 10, 12, 14, 16, 18, 20]\n"
     ]
    }
   ],
   "source": [
    "# Using list comprehension to get even numbers from 1 to 20\n",
    "even_numbers = [x for x in range(1, 21) if x%2==0]     \n",
    "\n",
    "# Example:\n",
    "print(even_numbers)  "
   ]
  },
  {
   "cell_type": "markdown",
   "id": "de9f2628-ac71-48b8-b470-a6c79e9af746",
   "metadata": {},
   "source": [
    "### 8. Write a function file_operations that creates a directory named \"test_folder\" using os.makedirs(). Then, pause the execution for 3 seconds using time.sleep(), and finally, delete the directory using os.rmdir()."
   ]
  },
  {
   "cell_type": "code",
   "execution_count": 98,
   "id": "531823cf-61f8-4836-96a0-484067f7c220",
   "metadata": {},
   "outputs": [
    {
     "name": "stdout",
     "output_type": "stream",
     "text": [
      "Directory 'test_folder' created.\n",
      "Paused for 3 seconds.\n",
      "Directory 'test_folder' deleted.\n"
     ]
    }
   ],
   "source": [
    "import os\n",
    "import time\n",
    "\n",
    "#Define A Function that take no argument,create a directory and after 3 second it delete the directory \n",
    "def file_operations():\n",
    "    # Create a directory named \"test_folder\"\n",
    "    os.makedirs(\"test_folder\")\n",
    "    print(\"Directory 'test_folder' created.\")\n",
    "\n",
    "    # Pause the execution for 3 seconds\n",
    "    time.sleep(3)\n",
    "    print(\"Paused for 3 seconds.\")\n",
    "\n",
    "    # Delete the directory\n",
    "    os.rmdir(\"test_folder\")\n",
    "    print(\"Directory 'test_folder' deleted.\")\n",
    "\n",
    "# Example:\n",
    "file_operations()  # Creates \"test_folder\", pauses for 3 seconds, and deletes it.\n"
   ]
  },
  {
   "cell_type": "markdown",
   "id": "44ea4a37-1a5d-43ea-b1b6-dcbc680bcd5a",
   "metadata": {},
   "source": [
    "### 9. Write a Python script that imports only sleep from the time module and renames it to pause. Use it to pause execution for 2 seconds and print \"Paused execution...\"."
   ]
  },
  {
   "cell_type": "code",
   "execution_count": 101,
   "id": "7191cd1c-d330-4216-8ff0-6e5b1a6b022e",
   "metadata": {},
   "outputs": [
    {
     "name": "stdout",
     "output_type": "stream",
     "text": [
      "Paused execution...\n"
     ]
    }
   ],
   "source": [
    "from time import sleep as pause\n",
    "\n",
    "# Pause execution for 2 seconds\n",
    "pause(2)  \n",
    "print(\"Paused execution...\")  #After 2 seconds it print the following statement"
   ]
  },
  {
   "cell_type": "markdown",
   "id": "1c49fb68-99e6-4e24-909b-457d6ad8adad",
   "metadata": {},
   "source": [
    "### 10. Write a recursive function flatten_list that can flatten a nested list of any depth using *args and **kwargs."
   ]
  },
  {
   "cell_type": "code",
   "execution_count": 12,
   "id": "79fa5032-a5ec-4f37-b8c7-405b0c8ee3b0",
   "metadata": {},
   "outputs": [
    {
     "name": "stdout",
     "output_type": "stream",
     "text": [
      "[1, 2, 3, 4, 5, 6]\n",
      "[1, 2, 3, 4, 5]\n"
     ]
    }
   ],
   "source": [
    "#define a function that take first nessesary argument and second any number of optional argument *agrs and another optional argument **kwargs which take key value pair and store into a dictionary. \n",
    "\n",
    "def flatten_list(nested_list, *args, **kwargs):\n",
    "    flat_list = []\n",
    "    \n",
    "    # Iterate through each item in the provided list\n",
    "    for item in nested_list:\n",
    "        if isinstance(item, list):  #to check if an element is a list\n",
    "            # Recursively flatten if the item is a list\n",
    "            flat_list.extend(flatten_list(item, *args, **kwargs))\n",
    "        else:\n",
    "            # Append non-list items directly to the flat_list\n",
    "            flat_list.append(item)\n",
    "\n",
    "    # If *args contains any additional lists, flatten them as well\n",
    "    for extra_list in args:\n",
    "        if isinstance(extra_list, list):\n",
    "            flat_list.extend(flatten_list(extra_list, *args, **kwargs))\n",
    "    \n",
    "    # If **kwargs contains any additional lists under named keys, flatten them as well\n",
    "    for key in kwargs:\n",
    "        if isinstance(kwargs[key], list):\n",
    "            flat_list.extend(flatten_list(kwargs[key], *args, **kwargs))\n",
    "\n",
    "    return flat_list\n",
    "\n",
    "#Example:\n",
    "print(flatten_list([1, [2, 3], [[4, 5], 6]]))  \n",
    "\n",
    "print(flatten_list([[1, 2], [3, [4, [5]]]]) ) "
   ]
  }
 ],
 "metadata": {
  "kernelspec": {
   "display_name": "Python 3 (ipykernel)",
   "language": "python",
   "name": "python3"
  },
  "language_info": {
   "codemirror_mode": {
    "name": "ipython",
    "version": 3
   },
   "file_extension": ".py",
   "mimetype": "text/x-python",
   "name": "python",
   "nbconvert_exporter": "python",
   "pygments_lexer": "ipython3",
   "version": "3.12.4"
  }
 },
 "nbformat": 4,
 "nbformat_minor": 5
}
