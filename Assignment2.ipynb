{
 "cells": [
  {
   "cell_type": "markdown",
   "id": "3d224027-fe1e-4a6c-8e9c-1c30a8392531",
   "metadata": {},
   "source": [
    "### 1. Write a function greet that takes two arguments: name (a string) and greeting (a string with a default value of \"Hello\"). The function should return a greeting message."
   ]
  },
  {
   "cell_type": "code",
   "execution_count": 4,
   "id": "fd379d79-c392-42b2-bbd1-d56a61c5b190",
   "metadata": {},
   "outputs": [
    {
     "name": "stdout",
     "output_type": "stream",
     "text": [
      "Hello Alice\n",
      "Good Morning Bob\n"
     ]
    }
   ],
   "source": [
    "#Define A function which take two argument one is name and second is  greeting as a default value argument\n",
    "def greet(name, greeting=\"Hello\"):\n",
    "    return f\"{greeting} {name}\"\n",
    "\n",
    "# Example Usage:\n",
    "print(greet(\"Alice\"))  # Output: \"Hello Alice\"\n",
    "print(greet(\"Bob\", \"Good Morning\"))  # Output: \"Good Morning Bob\"\n"
   ]
  },
  {
   "cell_type": "markdown",
   "id": "dea9561e-cce8-4a3e-af96-b27c2460a4f9",
   "metadata": {},
   "source": [
    "### 2.Create a function create_profile that takes arguments for name, age, and city as named arguments. The function should return a string like \"Name: Alice, Age: 25, City: New York\". Ensure that the age argument has a default value of 18."
   ]
  },
  {
   "cell_type": "code",
   "execution_count": 7,
   "id": "4c20406f-cc40-4725-af42-9f4be4833ba3",
   "metadata": {},
   "outputs": [
    {
     "name": "stdout",
     "output_type": "stream",
     "text": [
      "Name: John, Age: 18, City: Chicago\n",
      "Name: Emma, Age: 22, City: Los Angeles\n"
     ]
    }
   ],
   "source": [
    "#Define A function which take three argument, one is name, second is city and third is age as a default value argument \n",
    "def create_profile(name, city, age=18):\n",
    "    return f\"Name: {name}, Age: {age}, City: {city}\"\n",
    "\n",
    "# Example Usage:\n",
    "print(create_profile(name=\"John\", city=\"Chicago\"))  \n",
    "# Output: \"Name: John, Age: 18, City: Chicago\"\n",
    "\n",
    "print(create_profile(name=\"Emma\", age=22, city=\"Los Angeles\"))  \n",
    "# Output: \"Name: Emma, Age: 22, City: Los Angeles\"\n"
   ]
  },
  {
   "cell_type": "markdown",
   "id": "dc45c226-2524-404f-be28-6b62f53eba80",
   "metadata": {},
   "source": [
    "### 3. Write a function sum_numbers that takes any number of positional arguments (args) and keyword arguments (*kwargs). It should:\n",
    "        -> Return the sum of all *args if they are numbers.\n",
    "        -> Return a dictionary of all keyword arguments.\n"
   ]
  },
  {
   "cell_type": "code",
   "execution_count": 23,
   "id": "90dd4b7a-3283-4833-b76a-bbf758fc8d38",
   "metadata": {},
   "outputs": [
    {
     "name": "stdout",
     "output_type": "stream",
     "text": [
      "6\n",
      "(3, {'x': 4, 'y': 5})\n"
     ]
    }
   ],
   "source": [
    "#Define A function that take any number of opsitional argument agrs and another opsitional argument kwargs which take key value pair and store into a dictionary. \n",
    "def sum_numbers(*args, **kwargs):\n",
    "    # Summing all the positional arguments (*args) that are numbers\n",
    "    sum_of_args = sum(arg for arg in args if isinstance(arg, (int, float)))\n",
    "\n",
    "    # Returning the sum of *args and the dictionary of **kwargs\n",
    "    if kwargs:\n",
    "        return sum_of_args, kwargs\n",
    "    return sum_of_args\n",
    "\n",
    "# Example Usage:\n",
    "print(sum_numbers(1, 2, 3))  \n",
    "# Output: 6\n",
    "\n",
    "print(sum_numbers(1, 2, x=4, y=5))  \n",
    "# Output: (6, {'x': 4, 'y': 5})\n"
   ]
  },
  {
   "cell_type": "code",
   "execution_count": null,
   "id": "6019a887-d858-4f9d-b5b5-f0ead4ee4a77",
   "metadata": {},
   "outputs": [],
   "source": []
  }
 ],
 "metadata": {
  "kernelspec": {
   "display_name": "Python 3 (ipykernel)",
   "language": "python",
   "name": "python3"
  },
  "language_info": {
   "codemirror_mode": {
    "name": "ipython",
    "version": 3
   },
   "file_extension": ".py",
   "mimetype": "text/x-python",
   "name": "python",
   "nbconvert_exporter": "python",
   "pygments_lexer": "ipython3",
   "version": "3.12.4"
  }
 },
 "nbformat": 4,
 "nbformat_minor": 5
}
