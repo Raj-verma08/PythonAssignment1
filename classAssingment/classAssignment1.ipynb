{
 "cells": [
  {
   "cell_type": "markdown",
   "id": "986e1e8b-09c5-471f-b778-26e062128da9",
   "metadata": {
    "jp-MarkdownHeadingCollapsed": true
   },
   "source": [
    " 1.Write a function that take N input from user and return data enter by user as a list, your function should ensure that\n",
    "   values given by user are integers.\n",
    "\n",
    " 2.Write a function that take one input argument, the input argument should be list this function compute sum, avg,   \n",
    "   min,max and cumulative sum and return this values.\n",
    "    \n",
    " 3.Now use both these functions, first function to take input from user and second function to compute sum, avg, min, max \n",
    "   and cumulative sum. \n"
   ]
  },
  {
   "cell_type": "code",
   "execution_count": 5,
   "id": "4ec3ccd6-0818-4935-a173-9d3144065e3f",
   "metadata": {},
   "outputs": [
    {
     "name": "stdin",
     "output_type": "stream",
     "text": [
      "How many integers would you like to enter?  4\n",
      "Enter integer 1 (or type 'stop' to quit):  3\n",
      "Enter integer 2 (or type 'stop' to quit):  8\n",
      "Enter integer 3 (or type 'stop' to quit):  4\n",
      "Enter integer 4 (or type 'stop' to quit):  5\n"
     ]
    },
    {
     "name": "stdout",
     "output_type": "stream",
     "text": [
      "List of integers entered: [3, 8, 4, 5]\n"
     ]
    }
   ],
   "source": [
    "#define Function to Take N input from user.\n",
    "def get_integer_list(N):\n",
    "    result = [] #list\n",
    "\n",
    "    #loop to take N input\n",
    "    for i in range(N):\n",
    "        user_input = input(f\"Enter integer {i + 1} (or type 'stop' to quit): \")\n",
    "\n",
    "        #to stop the input\n",
    "        if user_input.lower() == 'stop':\n",
    "            print(\"Exiting...\")\n",
    "            break\n",
    "            \n",
    "        #Check the input value is Valid Integer or Not\n",
    "        try:\n",
    "            number = int(user_input)\n",
    "            result.append(number)\n",
    "        except ValueError:\n",
    "            print(\"Invalid input! Please enter a valid integer.\")\n",
    "            continue\n",
    "            \n",
    "    #return List\n",
    "    return result\n",
    "\n",
    "# Take Input total number of element in list\n",
    "N = int(input(\"How many integers would you like to enter? \"))\n",
    "\n",
    "#calling get_integer_list() function\n",
    "integer_list = get_integer_list(N) \n",
    "\n",
    "#display Integer List\n",
    "print(\"List of integers entered:\", integer_list)"
   ]
  },
  {
   "cell_type": "code",
   "execution_count": 3,
   "id": "559ea237-4d3b-45d1-b000-096f4a34b6eb",
   "metadata": {},
   "outputs": [
    {
     "name": "stdout",
     "output_type": "stream",
     "text": [
      "Sum: 150\n",
      "Average: 30.0\n",
      "Min: 10\n",
      "Max: 50\n",
      "Cumulative Sum: [10, 30, 60, 100, 150]\n"
     ]
    }
   ],
   "source": [
    "#define Function to compute sum, avg, min, max and cumulative sum\n",
    "def compute_stats(numbers):\n",
    "    if not numbers:  # Check if the list is empty\n",
    "        return 0, 0, None, None, []\n",
    "\n",
    "    total_sum = sum(numbers)  # Compute the sum\n",
    "    avg = total_sum / len(numbers)  # Compute the average\n",
    "    minimum = min(numbers)  # Find the minimum value\n",
    "    maximum = max(numbers)  # Find the maximum value\n",
    "\n",
    "    # Compute the cumulative sum\n",
    "    cumulative_sum = []\n",
    "    current_sum = 0\n",
    "    for num in numbers:\n",
    "        current_sum += num\n",
    "        cumulative_sum.append(current_sum)\n",
    "\n",
    "    return total_sum, avg, minimum, maximum, cumulative_sum\n",
    "\n",
    "# Initialize list\n",
    "numbers = [10, 20, 30, 40, 50]\n",
    "\n",
    "#calling compute_stats() function\n",
    "total_sum, avg, minimum, maximum, cumulative_sum = compute_stats(numbers)\n",
    "\n",
    "#display sum, avg, min, max and cumulative sum\n",
    "print(\"Sum:\", total_sum)\n",
    "print(\"Average:\", avg)\n",
    "print(\"Min:\", minimum)\n",
    "print(\"Max:\", maximum)\n",
    "print(\"Cumulative Sum:\", cumulative_sum)"
   ]
  },
  {
   "cell_type": "code",
   "execution_count": 9,
   "id": "4a9fdc4e-2bb9-42d3-bc54-49080a191d38",
   "metadata": {},
   "outputs": [
    {
     "name": "stdin",
     "output_type": "stream",
     "text": [
      "How many integers would you like to enter?  5\n",
      "Enter integer 1 (or type 'stop' to quit):  3\n",
      "Enter integer 2 (or type 'stop' to quit):  7\n",
      "Enter integer 3 (or type 'stop' to quit):  1\n",
      "Enter integer 4 (or type 'stop' to quit):  2\n",
      "Enter integer 5 (or type 'stop' to quit):  3\n"
     ]
    },
    {
     "name": "stdout",
     "output_type": "stream",
     "text": [
      "Sum: 16\n",
      "Average: 3.2\n",
      "Min: 1\n",
      "Max: 7\n",
      "Cumulative Sum: [3, 10, 11, 13, 16]\n"
     ]
    }
   ],
   "source": [
    "# define function to use above functions and to compute sum, avg, min, max and cumulative sum\n",
    "def perform_task():\n",
    "    integer_list = get_integer_list(N)\n",
    "    total_sum, avg, minimum, maximum, cumulative_sum = compute_stats(integer_list)\n",
    "    print(\"Sum:\", total_sum)\n",
    "    print(\"Average:\", avg)\n",
    "    print(\"Min:\", minimum)\n",
    "    print(\"Max:\", maximum)\n",
    "    print(\"Cumulative Sum:\", cumulative_sum)\n",
    "\n",
    "# Take Input total number of element in list\n",
    "N = int(input(\"How many integers would you like to enter? \"))\n",
    "\n",
    "#using perform_tast function\n",
    "perform_task()"
   ]
  }
 ],
 "metadata": {
  "kernelspec": {
   "display_name": "Python 3 (ipykernel)",
   "language": "python",
   "name": "python3"
  },
  "language_info": {
   "codemirror_mode": {
    "name": "ipython",
    "version": 3
   },
   "file_extension": ".py",
   "mimetype": "text/x-python",
   "name": "python",
   "nbconvert_exporter": "python",
   "pygments_lexer": "ipython3",
   "version": "3.12.4"
  }
 },
 "nbformat": 4,
 "nbformat_minor": 5
}
