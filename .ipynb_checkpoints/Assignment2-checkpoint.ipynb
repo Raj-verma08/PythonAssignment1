{
 "cells": [
  {
   "cell_type": "markdown",
   "id": "3d224027-fe1e-4a6c-8e9c-1c30a8392531",
   "metadata": {},
   "source": [
    "### 1. Write a function greet that takes two arguments: name (a string) and greeting (a string with a default value of \"Hello\"). The function should return a greeting message."
   ]
  },
  {
   "cell_type": "code",
   "execution_count": 40,
   "id": "fd379d79-c392-42b2-bbd1-d56a61c5b190",
   "metadata": {},
   "outputs": [
    {
     "name": "stdout",
     "output_type": "stream",
     "text": [
      "Hello Alice\n",
      "Good Morning Bob\n"
     ]
    }
   ],
   "source": [
    "#Define A function which take two argument one is name and second is  greeting as a default value argument\n",
    "def greet(name, greeting=\"Hello\"):\n",
    "    return f\"{greeting} {name}\"\n",
    "\n",
    "# Example:\n",
    "print(greet(\"Alice\"))  # Output: \"Hello Alice\"\n",
    "print(greet(\"Bob\", \"Good Morning\"))  # Output: \"Good Morning Bob\"\n"
   ]
  },
  {
   "cell_type": "markdown",
   "id": "dea9561e-cce8-4a3e-af96-b27c2460a4f9",
   "metadata": {},
   "source": [
    "### 2.Create a function create_profile that takes arguments for name, age, and city as named arguments. The function should return a string like \"Name: Alice, Age: 25, City: New York\". Ensure that the age argument has a default value of 18."
   ]
  },
  {
   "cell_type": "code",
   "execution_count": 42,
   "id": "4c20406f-cc40-4725-af42-9f4be4833ba3",
   "metadata": {},
   "outputs": [
    {
     "name": "stdout",
     "output_type": "stream",
     "text": [
      "Name: John, Age: 18, City: Chicago\n",
      "Name: Emma, Age: 22, City: Los Angeles\n"
     ]
    }
   ],
   "source": [
    "#Define A function which take three argument, one is name, second is city and third is age as a default value argument \n",
    "def create_profile(name, city, age=18):\n",
    "    return f\"Name: {name}, Age: {age}, City: {city}\"\n",
    "\n",
    "# Example:\n",
    "print(create_profile(name=\"John\", city=\"Chicago\"))  \n",
    "# Output: \"Name: John, Age: 18, City: Chicago\"\n",
    "\n",
    "print(create_profile(name=\"Emma\", age=22, city=\"Los Angeles\"))  \n",
    "# Output: \"Name: Emma, Age: 22, City: Los Angeles\"\n"
   ]
  },
  {
   "cell_type": "markdown",
   "id": "dc45c226-2524-404f-be28-6b62f53eba80",
   "metadata": {},
   "source": [
    "### 3. Write a function sum_numbers that takes any number of positional arguments (args) and keyword arguments (*kwargs). It should:\n",
    "        -> Return the sum of all *args if they are numbers.\n",
    "        -> Return a dictionary of all keyword arguments.\n"
   ]
  },
  {
   "cell_type": "code",
   "execution_count": 44,
   "id": "90dd4b7a-3283-4833-b76a-bbf758fc8d38",
   "metadata": {},
   "outputs": [
    {
     "name": "stdout",
     "output_type": "stream",
     "text": [
      "6\n",
      "(3, {'x': 4, 'y': 5})\n"
     ]
    }
   ],
   "source": [
    "#Define A function that take any number of opsitional argument agrs and another opsitional argument kwargs which take key value pair and store into a dictionary. \n",
    "def sum_numbers(*args, **kwargs):\n",
    "    # Summing all the positional arguments (*args) that are numbers\n",
    "    sum_of_args = sum(arg for arg in args if isinstance(arg, (int, float)))\n",
    "\n",
    "    # Returning the sum of *args and the dictionary of **kwargs\n",
    "    if kwargs:\n",
    "        return sum_of_args, kwargs\n",
    "    return sum_of_args\n",
    "\n",
    "# Example:\n",
    "print(sum_numbers(1, 2, 3))  \n",
    "# Output: 6\n",
    "\n",
    "print(sum_numbers(1, 2, x=4, y=5))  \n",
    "# Output: (6, {'x': 4, 'y': 5})\n"
   ]
  },
  {
   "cell_type": "markdown",
   "id": "3be8a4de-af67-482d-8509-c201b1ff02a7",
   "metadata": {},
   "source": [
    "### 4. Write a function that uses map and a lambda to return a list where each element is squared.\n",
    "\n"
   ]
  },
  {
   "cell_type": "code",
   "execution_count": 58,
   "id": "6e722310-3d4d-4c08-8d3e-a80aae50833d",
   "metadata": {},
   "outputs": [
    {
     "ename": "TypeError",
     "evalue": "'list' object is not callable",
     "output_type": "error",
     "traceback": [
      "\u001b[1;31m---------------------------------------------------------------------------\u001b[0m",
      "\u001b[1;31mTypeError\u001b[0m                                 Traceback (most recent call last)",
      "Cell \u001b[1;32mIn[58], line 6\u001b[0m\n\u001b[0;32m      3\u001b[0m     \u001b[38;5;28;01mreturn\u001b[39;00m \u001b[38;5;28mlist\u001b[39m(\u001b[38;5;28mmap\u001b[39m(\u001b[38;5;28;01mlambda\u001b[39;00m x: x \u001b[38;5;241m*\u001b[39m\u001b[38;5;241m*\u001b[39m \u001b[38;5;241m2\u001b[39m, numbers))\n\u001b[0;32m      5\u001b[0m \u001b[38;5;66;03m# Example:\u001b[39;00m\n\u001b[1;32m----> 6\u001b[0m \u001b[38;5;28mprint\u001b[39m(square_list([\u001b[38;5;241m1\u001b[39m, \u001b[38;5;241m2\u001b[39m, \u001b[38;5;241m3\u001b[39m, \u001b[38;5;241m4\u001b[39m]))\n",
      "Cell \u001b[1;32mIn[58], line 3\u001b[0m, in \u001b[0;36msquare_list\u001b[1;34m(numbers)\u001b[0m\n\u001b[0;32m      2\u001b[0m \u001b[38;5;28;01mdef\u001b[39;00m \u001b[38;5;21msquare_list\u001b[39m(numbers):\n\u001b[1;32m----> 3\u001b[0m     \u001b[38;5;28;01mreturn\u001b[39;00m \u001b[38;5;28mlist\u001b[39m(\u001b[38;5;28mmap\u001b[39m(\u001b[38;5;28;01mlambda\u001b[39;00m x: x \u001b[38;5;241m*\u001b[39m\u001b[38;5;241m*\u001b[39m \u001b[38;5;241m2\u001b[39m, numbers))\n",
      "\u001b[1;31mTypeError\u001b[0m: 'list' object is not callable"
     ]
    }
   ],
   "source": [
    "#Define A Function that one argument and return list of squared of each element in the list\n",
    "def square_list(numbers):\n",
    "    return list(map(lambda x: x ** 2, numbers))\n",
    "\n",
    "# Example:\n",
    "print(square_list([1, 2, 3, 4]))  "
   ]
  },
  {
   "cell_type": "markdown",
   "id": "15a12a88-d43e-40d5-aa68-c712358cf6c0",
   "metadata": {},
   "source": [
    "### 5. Write a function that filters out all odd numbers from a list using filter and a lambda function.\n",
    "\n"
   ]
  },
  {
   "cell_type": "code",
   "execution_count": 48,
   "id": "1f48f76d-7760-4ea6-9664-897d6d2adcb4",
   "metadata": {},
   "outputs": [
    {
     "ename": "TypeError",
     "evalue": "'list' object is not callable",
     "output_type": "error",
     "traceback": [
      "\u001b[1;31m---------------------------------------------------------------------------\u001b[0m",
      "\u001b[1;31mTypeError\u001b[0m                                 Traceback (most recent call last)",
      "Cell \u001b[1;32mIn[48], line 13\u001b[0m\n\u001b[0;32m     10\u001b[0m     \u001b[38;5;28;01mreturn\u001b[39;00m \u001b[38;5;28mlist\u001b[39m(\u001b[38;5;28mfilter\u001b[39m(\u001b[38;5;28;01mlambda\u001b[39;00m x: x \u001b[38;5;241m%\u001b[39m \u001b[38;5;241m2\u001b[39m \u001b[38;5;241m==\u001b[39m \u001b[38;5;241m0\u001b[39m, numbers))\n\u001b[0;32m     12\u001b[0m \u001b[38;5;66;03m# Example Usage:\u001b[39;00m\n\u001b[1;32m---> 13\u001b[0m \u001b[38;5;28mprint\u001b[39m(filter_odd_numbers([\u001b[38;5;241m1\u001b[39m, \u001b[38;5;241m2\u001b[39m, \u001b[38;5;241m3\u001b[39m, \u001b[38;5;241m4\u001b[39m, \u001b[38;5;241m5\u001b[39m]))\n",
      "Cell \u001b[1;32mIn[48], line 10\u001b[0m, in \u001b[0;36mfilter_odd_numbers\u001b[1;34m(numbers)\u001b[0m\n\u001b[0;32m      9\u001b[0m \u001b[38;5;28;01mdef\u001b[39;00m \u001b[38;5;21mfilter_odd_numbers\u001b[39m(numbers):\n\u001b[1;32m---> 10\u001b[0m     \u001b[38;5;28;01mreturn\u001b[39;00m \u001b[38;5;28mlist\u001b[39m(\u001b[38;5;28mfilter\u001b[39m(\u001b[38;5;28;01mlambda\u001b[39;00m x: x \u001b[38;5;241m%\u001b[39m \u001b[38;5;241m2\u001b[39m \u001b[38;5;241m==\u001b[39m \u001b[38;5;241m0\u001b[39m, numbers))\n",
      "\u001b[1;31mTypeError\u001b[0m: 'list' object is not callable"
     ]
    }
   ],
   "source": [
    "# # Define A function that take one argument and return the list contaning only even number(or filter out the odd numbers from the list)\n",
    "\n",
    "# def filter_odd_numbers(numbers):\n",
    "#     return list(filter(lambda x: x % 2 == 0, numbers))\n",
    "\n",
    "# # Example:\n",
    "# print(filter_odd_numbers([1, 2, 3, 4, 5]))  #print the function 'filter_odd_numbers' return value\n",
    "# Define the function\n",
    "def filter_odd_numbers(numbers):\n",
    "    return list(filter(lambda x: x % 2 == 0, numbers))\n",
    "\n",
    "# Example Usage:\n",
    "print(filter_odd_numbers([1, 2, 3, 4, 5]))  \n",
    "# Output: [2, 4]\n"
   ]
  },
  {
   "cell_type": "markdown",
   "id": "a2d7fc73-98ec-4b1b-8096-af87b69dcb9f",
   "metadata": {},
   "source": [
    "### 6. Create a list comprehension that takes a list of numbers and returns a list of their squares."
   ]
  },
  {
   "cell_type": "code",
   "execution_count": 60,
   "id": "886760b2-4382-4582-8dcd-184e9c7d2dae",
   "metadata": {},
   "outputs": [
    {
     "name": "stdout",
     "output_type": "stream",
     "text": [
      "[1, 4, 9, 16]\n"
     ]
    }
   ],
   "source": [
    "l=[1,2,3,4]   # Initializing a list with values\n",
    "\n",
    "#List Comprehension that square the element of the above list and store them in squares list\n",
    "squares = [x**2 for x in l]\n",
    "\n",
    "# Example:\n",
    "print(squares)  #print the squares list"
   ]
  },
  {
   "cell_type": "code",
   "execution_count": null,
   "id": "97063c83-6f00-4f66-b0ce-ff1393b2fe7f",
   "metadata": {},
   "outputs": [],
   "source": []
  }
 ],
 "metadata": {
  "kernelspec": {
   "display_name": "Python 3 (ipykernel)",
   "language": "python",
   "name": "python3"
  },
  "language_info": {
   "codemirror_mode": {
    "name": "ipython",
    "version": 3
   },
   "file_extension": ".py",
   "mimetype": "text/x-python",
   "name": "python",
   "nbconvert_exporter": "python",
   "pygments_lexer": "ipython3",
   "version": "3.12.4"
  }
 },
 "nbformat": 4,
 "nbformat_minor": 5
}
