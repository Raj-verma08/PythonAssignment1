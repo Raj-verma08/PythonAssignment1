{
 "cells": [
  {
   "cell_type": "markdown",
   "id": "13c0924c-2703-4c92-ae92-fd487f595f16",
   "metadata": {
    "jp-MarkdownHeadingCollapsed": true
   },
   "source": [
    "### Part 1: Introduction to Python\n",
    "   \n"
   ]
  },
  {
   "cell_type": "markdown",
   "id": "4beb4fc9-b88a-49e6-9464-1786afa17f86",
   "metadata": {},
   "source": [
    " 1. Python Installation and Execution"
   ]
  },
  {
   "cell_type": "markdown",
   "id": "e8dcf08c-b536-4839-8403-56ded71d81bf",
   "metadata": {},
   "source": [
    "![ph2.png](./ph2.png)"
   ]
  },
  {
   "cell_type": "markdown",
   "id": "9e150831-7f70-4966-93f9-bd17cf9d672c",
   "metadata": {},
   "source": [
    "![ph1.png](./ph1.png)"
   ]
  },
  {
   "cell_type": "markdown",
   "id": "6a738c2d-38ba-44e0-bae1-496df20f90e8",
   "metadata": {},
   "source": [
    " 1. Using IDLE"
   ]
  },
  {
   "cell_type": "markdown",
   "id": "bcc744a8-26b6-4b46-aff4-14476ed73625",
   "metadata": {},
   "source": [
    "![ph3](./ph3.png)"
   ]
  },
  {
   "cell_type": "markdown",
   "id": "daf8a7af-29be-4524-aa65-48a6ec3c3a71",
   "metadata": {},
   "source": [
    "### Part 2: Basic Python Syntax"
   ]
  },
  {
   "cell_type": "markdown",
   "id": "6fb8c684-5849-4adb-a4fe-164d6fbd2ae7",
   "metadata": {},
   "source": [
    "1. String Operations"
   ]
  },
  {
   "cell_type": "code",
   "execution_count": null,
   "id": "3378f087-92ff-4573-aa8e-272a27417fe8",
   "metadata": {},
   "outputs": [],
   "source": [
    "first_name=input(\"Enter your first name: \")\n",
    "last_name=input(\"Enter your last name: \")\n",
    "first_name=first_name.strip().capitalize()\n",
    "last_name = last_name.strip().capitalize()\n",
    "print(last_name+ \" \"+ first_name)"
   ]
  },
  {
   "cell_type": "code",
   "execution_count": null,
   "id": "c372f27e-691f-473f-9332-be3a26a92d06",
   "metadata": {},
   "outputs": [],
   "source": [
    "'''Explanation of String Methods i used above:\n",
    "strip()->\n",
    "This method removes any leading or trailing whitespace from the string.\n",
    "It's useful to ensure that extra spaces entered by the user do not affect the result.\n",
    "\n",
    "capitalize() ->\n",
    "This method converts the first character of the string to uppercase and the rest to lowercase. \n",
    "It ensures that the names are formatted correctly, even if the user enters them in all lowercase or uppercase.'''"
   ]
  },
  {
   "cell_type": "markdown",
   "id": "462601c8-a4a6-4a88-b8c5-87d96a7b76a9",
   "metadata": {},
   "source": [
    "1. Numeric Data Types and Conversion Functions"
   ]
  },
  {
   "cell_type": "code",
   "execution_count": 9,
   "id": "b860814e-0ba3-4187-85d1-28443f49b793",
   "metadata": {},
   "outputs": [
    {
     "name": "stdin",
     "output_type": "stream",
     "text": [
      "Enter a number:  34\n"
     ]
    },
    {
     "name": "stdout",
     "output_type": "stream",
     "text": [
      "Integer value:  34\n",
      "Float value:  34.0\n",
      "Complex value:  (34+0j)\n"
     ]
    }
   ],
   "source": [
    "number = input(\"Enter a number: \")\n",
    "\n",
    "int_value = int(number)   \n",
    "float_value = float(number)\n",
    "complex_value = complex(number)\n",
    "\n",
    "print(\"Integer value: \", int_value)\n",
    "print(\"Float value: \", float_value)\n",
    "print(\"Complex value: \", complex_value)"
   ]
  },
  {
   "cell_type": "code",
   "execution_count": null,
   "id": "47dc7659-d66d-4cdb-9af1-1d5953973d9b",
   "metadata": {},
   "outputs": [],
   "source": [
    "'''Integer (int):\n",
    "An integer is a whole number, positive or negative, without any decimal point. \n",
    "For example, 5, -3, and 42 are all integers.\n",
    "\n",
    "Floating-point (float):\n",
    "A float is a number that has a decimal point. It can represent both whole numbers and fractions. \n",
    "For example, 5.0, -3.14, and 42.76 are all floating-point numbers.\n",
    "\n",
    "Complex (complex):\n",
    "A complex number has two parts: a real part and an imaginary part. \n",
    "It is represented in the form a + bj, where a is the real part and b is the imaginary part. \n",
    "For example, 3 + 4j is a complex number.'''"
   ]
  },
  {
   "cell_type": "markdown",
   "id": "9e016d62-0556-455b-b0e1-e671f0e93d05",
   "metadata": {},
   "source": [
    "1. Simple Input and Output"
   ]
  },
  {
   "cell_type": "code",
   "execution_count": 11,
   "id": "fe6979a3-76f4-4729-9654-ad8cb42dd5d5",
   "metadata": {},
   "outputs": [
    {
     "name": "stdin",
     "output_type": "stream",
     "text": [
      "Enter the length of the rectangle:  5\n",
      "Enter the width of the rectangle:  4\n"
     ]
    },
    {
     "name": "stdout",
     "output_type": "stream",
     "text": [
      "The area of the rectangle is: 20.0\n"
     ]
    }
   ],
   "source": [
    "length = float(input(\"Enter the length of the rectangle: \"))\n",
    "width = float(input(\"Enter the width of the rectangle: \"))\n",
    "area = length * width\n",
    "\n",
    "print(f\"The area of the rectangle is: {area}\")"
   ]
  },
  {
   "cell_type": "markdown",
   "id": "084279c8-647f-4e2a-a1ae-04b56783bd71",
   "metadata": {},
   "source": [
    "1. Using the format Method"
   ]
  },
  {
   "cell_type": "code",
   "execution_count": 13,
   "id": "418c8e9c-572e-4a06-a89b-2921b07e6b7d",
   "metadata": {},
   "outputs": [
    {
     "name": "stdout",
     "output_type": "stream",
     "text": [
      "The area of the rectangle is: 20.00\n"
     ]
    }
   ],
   "source": [
    "# Display the result with two decimal places using the format method\n",
    "print(\"The area of the rectangle is: {:.2f}\".format(area))"
   ]
  },
  {
   "cell_type": "markdown",
   "id": "dfee15b5-bcb4-4809-9826-86f356b57cff",
   "metadata": {},
   "source": [
    "1. The % Method and print Function"
   ]
  },
  {
   "cell_type": "code",
   "execution_count": 15,
   "id": "83ff1ea7-92aa-4eaf-ab2b-82b669805fcc",
   "metadata": {},
   "outputs": [
    {
     "name": "stdin",
     "output_type": "stream",
     "text": [
      "Enter the first number:  5\n",
      "Enter the second number:  10\n",
      "Enter the third number:  3\n"
     ]
    },
    {
     "name": "stdout",
     "output_type": "stream",
     "text": [
      "The average of the three numbers is: 6.00\n"
     ]
    }
   ],
   "source": [
    "num1 = float(input(\"Enter the first number: \"))\n",
    "num2 = float(input(\"Enter the second number: \"))\n",
    "num3 = float(input(\"Enter the third number: \"))\n",
    "avg = (num1 + num2 + num3) / 3\n",
    "\n",
    "print(\"The average of the three numbers is: %.2f\" % avg)"
   ]
  },
  {
   "cell_type": "markdown",
   "id": "a35e9b71-570a-4c2f-b290-c41a5b2e69d6",
   "metadata": {
    "jp-MarkdownHeadingCollapsed": true
   },
   "source": [
    "### Part 3: Language Components"
   ]
  },
  {
   "cell_type": "markdown",
   "id": "5cb4341b-42a8-4865-9d57-adc6cf8f0ebc",
   "metadata": {},
   "source": [
    "1. Control Flow (if Statements and Loops)"
   ]
  },
  {
   "cell_type": "code",
   "execution_count": 45,
   "id": "67c037ee-9925-43dd-8d08-5cc3de1f96d3",
   "metadata": {},
   "outputs": [
    {
     "name": "stdin",
     "output_type": "stream",
     "text": [
      "Enter a number (or type 'exit' to quit):  4\n"
     ]
    },
    {
     "name": "stdout",
     "output_type": "stream",
     "text": [
      "The input number is positive.\n"
     ]
    },
    {
     "name": "stdin",
     "output_type": "stream",
     "text": [
      "Enter a number (or type 'exit' to quit):  exit\n"
     ]
    },
    {
     "name": "stdout",
     "output_type": "stream",
     "text": [
      "Program exited.\n"
     ]
    }
   ],
   "source": [
    "while (True):\n",
    "    user_input = input(\"Enter a number (or type 'exit' to quit): \")\n",
    "    \n",
    "    if (user_input.lower() == 'exit'):\n",
    "        break\n",
    "    \n",
    "    number = float(user_input)\n",
    "  \n",
    "    if number > 0:\n",
    "        print(\"The input number is positive.\")\n",
    "    elif number < 0:\n",
    "        print(\"The input number is negative.\")\n",
    "    else:\n",
    "        print(\"The input number is zero.\")\n",
    "\n",
    "print(\"Program exited.\")"
   ]
  },
  {
   "cell_type": "markdown",
   "id": "b973d03d-b790-4ae3-95c8-8e874f381b9d",
   "metadata": {},
   "source": [
    "1. Relational and Logical Operators"
   ]
  },
  {
   "cell_type": "code",
   "execution_count": 47,
   "id": "148a8a58-1033-49eb-9541-613c3221d345",
   "metadata": {},
   "outputs": [
    {
     "name": "stdin",
     "output_type": "stream",
     "text": [
      "Enter the first number:  4\n",
      "Enter the second number:  7\n"
     ]
    },
    {
     "name": "stdout",
     "output_type": "stream",
     "text": [
      "One number is even and the other is odd.\n"
     ]
    }
   ],
   "source": [
    "num1 = int(input(\"Enter the first number: \"))\n",
    "num2 = int(input(\"Enter the second number: \"))\n",
    "\n",
    "if num1 % 2 == 0 and num2 % 2 == 0:\n",
    "    print(\"Both numbers are even.\")\n",
    "elif num1 % 2 != 0 and num2 % 2 != 0:\n",
    "    print(\"Both numbers are odd.\")\n",
    "else:\n",
    "    print(\"One number is even and the other is odd.\")"
   ]
  },
  {
   "cell_type": "code",
   "execution_count": null,
   "id": "ae5db55f-9183-4f01-a7d1-b4301e0084ce",
   "metadata": {},
   "outputs": [],
   "source": []
  }
 ],
 "metadata": {
  "kernelspec": {
   "display_name": "Python 3 (ipykernel)",
   "language": "python",
   "name": "python3"
  },
  "language_info": {
   "codemirror_mode": {
    "name": "ipython",
    "version": 3
   },
   "file_extension": ".py",
   "mimetype": "text/x-python",
   "name": "python",
   "nbconvert_exporter": "python",
   "pygments_lexer": "ipython3",
   "version": "3.12.4"
  }
 },
 "nbformat": 4,
 "nbformat_minor": 5
}
